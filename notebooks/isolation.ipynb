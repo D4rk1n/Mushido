{
 "cells": [
  {
   "cell_type": "code",
   "execution_count": 1,
   "metadata": {},
   "outputs": [],
   "source": [
    "\n",
    "\n",
    "from commonfunctions import *\n",
    "inpath = '../inputs/'\n",
    "outpath = '../outputs/segmentation/'\n",
    "import time\n",
    "import joblib\n",
    "\n"
   ]
  },
  {
   "cell_type": "code",
   "execution_count": null,
   "metadata": {},
   "outputs": [],
   "source": []
  },
  {
   "cell_type": "code",
   "execution_count": 2,
   "metadata": {},
   "outputs": [],
   "source": [
    " def get_candidates_lines(bimg, thickness):\n",
    "    fimg = np.copy(bimg)\n",
    "    candidates = [] # Contains list of candidate staffs lines (row, begin, height)\n",
    "    cols = fimg.shape[1]\n",
    "    rows = fimg.shape[0]\n",
    "    delta = max(1 , thickness//3)\n",
    "    t2 = thickness+ delta\n",
    "    t1 = abs(thickness-delta)\n",
    "    flag = False\n",
    "    for i in range(cols):\n",
    "        for j in range(rows):\n",
    "            if fimg[j,i] == 0 and flag == False:\n",
    "                beg = j\n",
    "                flag = True\n",
    "            elif fimg[j,i] == 1 and flag == True:\n",
    "                flag = False\n",
    "                if j-beg > t2 or j-beg < t1:\n",
    "                    fimg[beg:j, i] = 1\n",
    "                else:\n",
    "                    candidates.append((i, beg, j-beg))\n",
    "    return fimg, candidates\n"
   ]
  },
  {
   "cell_type": "code",
   "execution_count": 3,
   "metadata": {},
   "outputs": [],
   "source": [
    "def filter_candidates_lines(bimg,v,thickness , distance):\n",
    "    fimg = np.copy(bimg)\n",
    "    candidates = np.copy(v) \n",
    "    cols = fimg.shape[1]\n",
    "    rows = fimg.shape[0]\n",
    "    for c in candidates:\n",
    "        i, beg, t = c\n",
    "        if np.any(fimg[beg-distance+thickness:beg-1, i] == 0):\n",
    "            fimg[beg:beg+t, i] = 1\n",
    "    return fimg, candidates\n"
   ]
  },
  {
   "cell_type": "code",
   "execution_count": 4,
   "metadata": {},
   "outputs": [],
   "source": [
    "def remove_thin_lines(v, csl, thickness):\n",
    "    cols = csl.shape[1]\n",
    "    rows = csl.shape[0]\n",
    "    candidates = v.copy()\n",
    "    img = np.copy(csl)\n",
    "    eliminated = []\n",
    "    for i in candidates:\n",
    "        col, begin, length = i\n",
    "        maxWidthLeft = 0\n",
    "        maxWidthRight = 0\n",
    "        wLeft = 0\n",
    "        wRight = 0\n",
    "        while col+wLeft+1 < cols and begin < i[1]+length:\n",
    "            if csl[begin, col+wLeft+1] == 0:\n",
    "                wLeft += 1\n",
    "            else:\n",
    "                begin += 1\n",
    "                maxWidthLeft = max(maxWidthLeft, wLeft)\n",
    "                wLeft = 0\n",
    "        maxWidthLeft = max(maxWidthLeft, wLeft)\n",
    "        begin = i[1]\n",
    "        while col-wRight-1 >= 0 and begin < i[1]+length:\n",
    "            if csl[begin, col-wRight-1] == 0:\n",
    "                wRight += 1\n",
    "            else:\n",
    "                begin += 1\n",
    "                maxWidthRight = max(maxWidthRight, wRight)\n",
    "                wRight = 0\n",
    "        maxWidthRight = max(maxWidthRight, wRight)\n",
    "        width = maxWidthRight + maxWidthLeft +1\n",
    "        if(width < 2*thickness):\n",
    "            img[i[1]:i[1]+i[2], i[0]] = 1\n",
    "            v.remove(i)\n",
    "            eliminated.append(i)\n",
    "    return img, v, eliminated"
   ]
  },
  {
   "cell_type": "code",
   "execution_count": 5,
   "metadata": {},
   "outputs": [],
   "source": [
    "def remove_lonely_lines(v, filteredImg, staffHeight, spaceHeight, eliminated):\n",
    "    verConnected = False\n",
    "    horConnected = False\n",
    "    c = v.copy()\n",
    "    img = np.copy(filteredImg)\n",
    "    cols = filteredImg.shape[1]\n",
    "    rows = filteredImg.shape[0]\n",
    "    staffs = np.ones(img.shape)\n",
    "\n",
    "    for i in c:\n",
    "        verConnected = False\n",
    "        horConnected = False\n",
    "        \n",
    "        col, begin, length = i\n",
    "        \n",
    "        if col-1>=0 and np.any(filteredImg[begin:begin+length , col-1] == 0):\n",
    "            horConnected = True\n",
    "        if col+1<cols and np.any(filteredImg[begin:begin+length ,col+1] == 0):\n",
    "            horConnected = True\n",
    "            \n",
    "        start = max(begin-(spaceHeight+staffHeight), 0)\n",
    "        end = min(rows, begin+length+spaceHeight+staffHeight-1)\n",
    "        if np.any(filteredImg[start:begin, col] == 0) or np.any(filteredImg[begin+length:end, col] == 0):\n",
    "            verConnected = True\n",
    "            \n",
    "        if not (verConnected and horConnected):\n",
    "            img[i[1]:i[1]+i[2], i[0]] = 1\n",
    "            v.remove(i)\n",
    "            eliminated.append(i)\n",
    "    for i in v:\n",
    "        staffs[i[1]:i[1]+i[2],i[0]] = 0\n",
    "    return staffs, v, eliminated"
   ]
  },
  {
   "cell_type": "code",
   "execution_count": 6,
   "metadata": {},
   "outputs": [],
   "source": [
    "def add_false_negative_lines(v, filteredImg, staffHeight, spaceHeight, eliminated):\n",
    "    verConnected = False\n",
    "    horConnected = False\n",
    "    c = v.copy()\n",
    "    eliminated.copy()\n",
    "    img = np.copy(filteredImg)\n",
    "    cols = filteredImg.shape[1]\n",
    "    rows = filteredImg.shape[0]\n",
    "    \n",
    "    for i in eliminated:\n",
    "        verConnected = False\n",
    "        horConnected = False\n",
    "        \n",
    "        col, begin, length = i\n",
    "        \n",
    "        if col-1>=0 and np.any(filteredImg[begin:begin+length , col-1]):\n",
    "            horConnected = True\n",
    "        if col+1<cols and np.any(filteredImg[begin:begin+length ,col+1]):\n",
    "            horConnected = True\n",
    "        start = max(begin-(spaceHeight+staffHeight), 0)\n",
    "        end = min(rows, begin+length+spaceHeight+staffHeight)\n",
    "        if np.any(filteredImg[start:begin, col]) or np.any(filteredImg[begin+length:end, col]):\n",
    "            verConnected = True\n",
    "            \n",
    "        if verConnected and horConnected:\n",
    "            img[i[1]:i[1]+i[2], i[0]] = 0\n",
    "            v.append(i)\n",
    "            \n",
    "    return img, v"
   ]
  },
  {
   "cell_type": "code",
   "execution_count": 7,
   "metadata": {},
   "outputs": [],
   "source": [
    "def binraization(img,n=8,t=15):\n",
    "\n",
    "    outputimg = np.zeros(img.shape)\n",
    "    intimg = np.zeros(img.shape)\n",
    "    h = img.shape[1]\n",
    "    w = img.shape[0]\n",
    "    s= min(w,h)//n\n",
    "    count = s**2\n",
    "    img = np.pad(img,s,\"constant\")\n",
    "    intimg = np.cumsum(img ,axis =1)\n",
    "    intimg = np.cumsum(intimg ,axis =0)\n",
    "    a = np.roll(intimg,-s//2,axis =0)\n",
    "    a = np.roll(a,-s//2,axis =1)\n",
    "    a[:,-s//2:]=a[-s//2-1,-s//2-1]\n",
    "    a[-s//2:,:]=a[-s//2-1,-s//2-1]\n",
    "    b = np.roll(intimg,s//2+1,axis =0)\n",
    "    b = np.roll(b,-s//2,axis =1)\n",
    "    b[0:s//2+1,:]=0\n",
    "    b[:,-s//2:]=0\n",
    "    \n",
    "    c = np.roll(intimg,s//2+1,axis =1)\n",
    "    c = np.roll(c,-s//2,axis =0)\n",
    "    c[:,0:s//2+1]=0\n",
    "    c[-s//2:,:]=0\n",
    "    \n",
    "    d = np.roll(intimg,s//2+1,axis =0)\n",
    "    d = np.roll(d,s//2+1,axis =1)\n",
    "    d[0:s//2+1,:]=0\n",
    "    d[:,0:s//2+1]=0\n",
    "\n",
    "    sum = (a-b-c+d)*(100-t)/100\n",
    "    outputimg = np.where(img>sum/count, 1, 0)\n",
    "    return outputimg[s:-s,s:-s]"
   ]
  },
  {
   "cell_type": "code",
   "execution_count": 8,
   "metadata": {},
   "outputs": [],
   "source": [
    "def segement_hand_written(img):\n",
    "    h , w = img.shape \n",
    "    window , width = get_dimensions(w,h)\n",
    "    fimg = median(img)\n",
    "    glares = (fimg > 195)\n",
    "    bimg = binraization(fimg,window,7)\n",
    "    output = (bimg ) - (glares)\n",
    "    output = median(output)\n",
    "    output = binary_dilation(1-output)\n",
    "    vse = np.array([[0,1,0],\n",
    "                    [0,1,0],\n",
    "                    [0,1,0]      ])\n",
    "\n",
    "    hse = np.array([[0,0,0],\n",
    "                    [1,1,1],\n",
    "                    [0,0,0]\n",
    "    ])\n",
    "    output = binary_dilation(output , vse)\n",
    "    output = binary_dilation(output , hse)\n",
    "    output = 1 - output\n",
    "    return output #the reuslt is binary image"
   ]
  },
  {
   "cell_type": "code",
   "execution_count": 9,
   "metadata": {},
   "outputs": [],
   "source": [
    "def remove_staff_lines(bimg , t , d,hw):\n",
    "    csl , c = get_candidates_lines(bimg,t) \n",
    "    fcsl ,c = filter_candidates_lines(csl,c,t,d)\n",
    "    #fcsl , c , e = remove_thin_lines(c,csl,t)\n",
    "    #fcsl , c , e = remove_lonely_lines(c,fcsl,t,d,e)\n",
    "    #fcsl , c  = add_false_negative_lines(c,fcsl,t,d,e) \n",
    "    staffless = (bimg-fcsl)\n",
    "    if(hw):\n",
    "        staffless = median(staffless)\n",
    "        staffless = binary_closing(staffless,np.ones((d//2,d//2)))\n",
    "        staffless = median(staffless)\n",
    "    result = ((staffless)).astype(\"uint8\")\n",
    "    return result #the result is a uint8 bw image"
   ]
  },
  {
   "cell_type": "code",
   "execution_count": 10,
   "metadata": {},
   "outputs": [
    {
     "name": "stdout",
     "output_type": "stream",
     "text": [
      "../inputs/\n",
      "../inputs/testcases/handwritten\n",
      "../inputs/testcases/camera\n",
      "../inputs/testcases/scanned\n"
     ]
    }
   ],
   "source": [
    "tcimgs , tcfiles = load_images_from_folder(inpath)\n",
    "hwimgs , hwfiles = load_images_from_folder(inpath+\"testcases/handwritten\")\n",
    "cimgs , cfiles = load_images_from_folder(inpath+\"testcases/camera\")\n",
    "simgs , sfiles = load_images_from_folder(inpath+\"testcases/scanned\")"
   ]
  },
  {
   "cell_type": "code",
   "execution_count": 128,
   "metadata": {},
   "outputs": [
    {
     "name": "stdout",
     "output_type": "stream",
     "text": [
      "--- 35.55238461494446 seconds ---\n"
     ]
    }
   ],
   "source": [
    "\n",
    "#the working cell to get contours\n",
    "path = outpath\n",
    "files = tcfiles\n",
    "images = tcimgs\n",
    "start_time = time.time()\n",
    "for i , img in enumerate(images) :\n",
    "    h , w = img.shape \n",
    "    window , width = get_dimensions(w,h)\n",
    "    hist = histogram(img,nbins=256,source_range='dtype')\n",
    "    hist_acc =np.cumsum(hist[0])\n",
    "    tratio = ((hist_acc[255]-hist_acc[206] + hist_acc[49]-hist_acc[0]) / hist_acc[-1])*100\n",
    "  \n",
    "    if ( tratio < 4):\n",
    "        bimg = segement_hand_written(img)\n",
    "    elif ( 75 > tratio > 4):\n",
    "        bimg = binraization(img,window,35)\n",
    "    else: \n",
    "        bimg = (img > 150).astype(\"uint8\")\n",
    "    io.imsave(path+\"/binary\"+files[i],(bimg*255).astype(\"uint8\"))\n",
    "    \"\"\" if(width): \n",
    "        img = resize(img,width=w//2)\n",
    "        bimg = resize(bimg,width=w//2) \"\"\"\n",
    "    t,d = get_lengthes(bimg)\n",
    "    img_isolated = remove_staff_lines(bimg,t,d , tratio < 4 )\n",
    "    io.imsave(path+\"/isolated\"+files[i],img_isolated.astype(\"uint8\"))\n",
    "\n",
    "    contours, _ = cv2.findContours(img_isolated, cv2.RETR_TREE, cv2.CHAIN_APPROX_SIMPLE)\n",
    "    temp_img = img.copy()\n",
    "    backtorgb = cv2.cvtColor(temp_img,cv2.COLOR_GRAY2RGB)\n",
    "    for contour in contours:\n",
    "        x,y,w,h = cv2.boundingRect(contour)\n",
    "        if(w > d//2 and h > d):\n",
    "            cv2.rectangle(backtorgb,(x,y),(x+w,y+h),(50,100,200),3)\n",
    "    io.imsave(path+\"/contours\"+files[i],backtorgb)\n",
    "print(\"--- %s seconds ---\" % (time.time() - start_time))\n",
    "    "
   ]
  },
  {
   "cell_type": "code",
   "execution_count": 131,
   "metadata": {},
   "outputs": [],
   "source": []
  },
  {
   "cell_type": "code",
   "execution_count": 139,
   "metadata": {},
   "outputs": [
    {
     "name": "stdout",
     "output_type": "stream",
     "text": [
      "b_8\n",
      "b_8\n"
     ]
    }
   ],
   "source": []
  },
  {
   "cell_type": "code",
   "execution_count": 14,
   "metadata": {},
   "outputs": [
    {
     "name": "stdout",
     "output_type": "stream",
     "text": [
      "5\n"
     ]
    },
    {
     "data": {
      "text/plain": [
       "' fcsl , c , e = remove_thin_lines(c,csl,t)\\nio.imsave(\"2-removed-thin.jpg\",(fcsl*255).astype(\"uint8\"))\\nfcsl , c , e = remove_lonely_lines(c,fcsl,t,d,e)\\nio.imsave(\"3-removed-lonely.jpg\",(fcsl*255).astype(\"uint8\"))\\nfcsl , c  = add_false_negative_lines(c,fcsl,t,d,e)\\nio.imsave(\"4-staff-lines.jpg\",(fcsl*255).astype(\"uint8\"))\\nstaffless = (bimg-fcsl)\\nif(tratio < 4):\\n    staffless = median(staffless)\\n    staffless = binary_closing(staffless,np.ones((d//2,d//2)))\\n    staffless = median(staffless)\\nresult = ((staffless)).astype(\"uint8\")\\nio.imsave(\"5-removed-staff-lines.jpg\",result) \\nio.imsave(\"6-isolated.jpg\",((bimg-result)*255).astype(\"uint8\"))  '"
      ]
     },
     "execution_count": 14,
     "metadata": {},
     "output_type": "execute_result"
    }
   ],
   "source": [
    "\n",
    "    img = cv2.imread(os.path.join(inpath,\"07.png\"))\n",
    "    img = cv2.cvtColor(img, cv2.COLOR_BGR2GRAY)\n",
    "    h , w = img.shape \n",
    "    window , width = get_dimensions(w,h)\n",
    "    hist = histogram(img,nbins=256,source_range='dtype')\n",
    "    hist_acc =np.cumsum(hist[0])\n",
    "    tratio = ((hist_acc[255]-hist_acc[206] + hist_acc[49]-hist_acc[0]) / hist_acc[-1])*100\n",
    "    if ( tratio < 4):\n",
    "        bimg = segement_hand_written(img)\n",
    "    elif ( 75 > tratio > 4):\n",
    "        bimg = binraization(img,window,35)\n",
    "    else: \n",
    "        bimg = (img > 150).astype(\"uint8\")\n",
    "    io.imsave(\"0-binary.jpg\",(bimg*255).astype(\"uint8\"))\n",
    "    t,d = get_lengthes(bimg)\n",
    "    print(t)\n",
    "    csl , c = get_candidates_lines(bimg,t) \n",
    "    io.imsave(\"1-candidates.jpg\",(csl*255).astype(\"uint8\"))\n",
    "    csl , c = filter_candidates_lines(csl ,c,t,d) \n",
    "    io.imsave(\"2-filtered-candidates.jpg\",(csl*255).astype(\"uint8\"))\n",
    "    \"\"\" fcsl , c , e = remove_thin_lines(c,csl,t)\n",
    "    io.imsave(\"2-removed-thin.jpg\",(fcsl*255).astype(\"uint8\"))\n",
    "    fcsl , c , e = remove_lonely_lines(c,fcsl,t,d,e)\n",
    "    io.imsave(\"3-removed-lonely.jpg\",(fcsl*255).astype(\"uint8\"))\n",
    "    fcsl , c  = add_false_negative_lines(c,fcsl,t,d,e)\n",
    "    io.imsave(\"4-staff-lines.jpg\",(fcsl*255).astype(\"uint8\"))\n",
    "    staffless = (bimg-fcsl)\n",
    "    if(tratio < 4):\n",
    "        staffless = median(staffless)\n",
    "        staffless = binary_closing(staffless,np.ones((d//2,d//2)))\n",
    "        staffless = median(staffless)\n",
    "    result = ((staffless)).astype(\"uint8\")\n",
    "    io.imsave(\"5-removed-staff-lines.jpg\",result) \n",
    "    io.imsave(\"6-isolated.jpg\",((bimg-result)*255).astype(\"uint8\"))  \"\"\""
   ]
  },
  {
   "cell_type": "code",
   "execution_count": 15,
   "metadata": {},
   "outputs": [
    {
     "ename": "error",
     "evalue": "OpenCV(4.5.0) ../modules/imgproc/src/color.cpp:182: error: (-215:Assertion failed) !_src.empty() in function 'cvtColor'\n",
     "output_type": "error",
     "traceback": [
      "\u001b[0;31m---------------------------------------------------------------------------\u001b[0m",
      "\u001b[0;31merror\u001b[0m                                     Traceback (most recent call last)",
      "\u001b[0;32m<ipython-input-15-0aad44ad58ca>\u001b[0m in \u001b[0;36m<module>\u001b[0;34m\u001b[0m\n\u001b[1;32m      1\u001b[0m \u001b[0mimg\u001b[0m \u001b[0;34m=\u001b[0m \u001b[0mcv2\u001b[0m\u001b[0;34m.\u001b[0m\u001b[0mimread\u001b[0m\u001b[0;34m(\u001b[0m\u001b[0mos\u001b[0m\u001b[0;34m.\u001b[0m\u001b[0mpath\u001b[0m\u001b[0;34m.\u001b[0m\u001b[0mjoin\u001b[0m\u001b[0;34m(\u001b[0m\u001b[0minpath\u001b[0m\u001b[0;34m,\u001b[0m\u001b[0;34m\"4.jpg\"\u001b[0m\u001b[0;34m)\u001b[0m\u001b[0;34m)\u001b[0m\u001b[0;34m\u001b[0m\u001b[0;34m\u001b[0m\u001b[0m\n\u001b[0;32m----> 2\u001b[0;31m \u001b[0mimg\u001b[0m \u001b[0;34m=\u001b[0m \u001b[0mcv2\u001b[0m\u001b[0;34m.\u001b[0m\u001b[0mcvtColor\u001b[0m\u001b[0;34m(\u001b[0m\u001b[0mimg\u001b[0m\u001b[0;34m,\u001b[0m \u001b[0mcv2\u001b[0m\u001b[0;34m.\u001b[0m\u001b[0mCOLOR_BGR2GRAY\u001b[0m\u001b[0;34m)\u001b[0m\u001b[0;34m\u001b[0m\u001b[0;34m\u001b[0m\u001b[0m\n\u001b[0m\u001b[1;32m      3\u001b[0m \u001b[0mh\u001b[0m \u001b[0;34m,\u001b[0m \u001b[0mw\u001b[0m \u001b[0;34m=\u001b[0m \u001b[0mimg\u001b[0m\u001b[0;34m.\u001b[0m\u001b[0mshape\u001b[0m\u001b[0;34m\u001b[0m\u001b[0;34m\u001b[0m\u001b[0m\n\u001b[1;32m      4\u001b[0m \u001b[0mwindow\u001b[0m \u001b[0;34m,\u001b[0m \u001b[0mwidth\u001b[0m \u001b[0;34m=\u001b[0m \u001b[0mget_dimensions\u001b[0m\u001b[0;34m(\u001b[0m\u001b[0mw\u001b[0m\u001b[0;34m,\u001b[0m\u001b[0mh\u001b[0m\u001b[0;34m)\u001b[0m\u001b[0;34m\u001b[0m\u001b[0;34m\u001b[0m\u001b[0m\n\u001b[1;32m      5\u001b[0m \u001b[0mfimg\u001b[0m \u001b[0;34m=\u001b[0m \u001b[0mmedian\u001b[0m\u001b[0;34m(\u001b[0m\u001b[0mimg\u001b[0m\u001b[0;34m)\u001b[0m\u001b[0;34m\u001b[0m\u001b[0;34m\u001b[0m\u001b[0m\n",
      "\u001b[0;31merror\u001b[0m: OpenCV(4.5.0) ../modules/imgproc/src/color.cpp:182: error: (-215:Assertion failed) !_src.empty() in function 'cvtColor'\n"
     ]
    }
   ],
   "source": [
    "    img = cv2.imread(os.path.join(inpath,\"4.jpg\"))\n",
    "    img = cv2.cvtColor(img, cv2.COLOR_BGR2GRAY)\n",
    "    h , w = img.shape \n",
    "    window , width = get_dimensions(w,h)\n",
    "    fimg = median(img)\n",
    "    glares = (fimg > 195)\n",
    "    io.imsave(\"1-glares.jpg\",(glares*255).astype(\"uint8\"))\n",
    "    bimg = binraization(fimg,window,7)\n",
    "    io.imsave(\"2-binary.jpg\",(bimg*255).astype(\"uint8\"))\n",
    "    output = (bimg ) - (glares)\n",
    "    io.imsave(\"3-binary.jpg\",(output*255).astype(\"uint8\"))\n",
    "    output = median(output)\n",
    "    output = binary_dilation(1-output)\n",
    "    vse = np.array([[0,1,0],\n",
    "                    [0,1,0],\n",
    "                    [0,1,0]      ])\n",
    "\n",
    "    hse = np.array([[0,0,0],\n",
    "                    [1,1,1],\n",
    "                    [0,0,0]\n",
    "    ])\n",
    "    output = binary_dilation(output , vse)\n",
    "    output = binary_dilation(output , hse)\n",
    "    output = 1 - output\n",
    "    io.imsave(\"4-binary.jpg\",(output*255).astype(\"uint8\"))\n",
    "    t,d = get_lengthes(output)\n",
    "    print(t , d)\n",
    "    csl , c = get_candidates_lines(output,t) \n",
    "    io.imsave(\"5-candidates.jpg\",(csl*255).astype(\"uint8\"))\n",
    "    csl , c = filter_candidates_lines(csl ,c,t,d) \n",
    "    io.imsave(\"6-filtered-candidates.jpg\",(csl*255).astype(\"uint8\"))"
   ]
  },
  {
   "cell_type": "code",
   "execution_count": null,
   "metadata": {},
   "outputs": [],
   "source": []
  },
  {
   "cell_type": "code",
   "execution_count": null,
   "metadata": {},
   "outputs": [],
   "source": [
    "    hist = histogram(img,nbins=256,source_range='dtype')\n",
    "    hist_acc =np.cumsum(hist[0])\n",
    "    tratio = ((hist_acc[255]-hist_acc[206] + hist_acc[49]-hist_acc[0]) / hist_acc[-1])*100\n",
    "  \n",
    "    if ( tratio < 4):\n",
    "        #the photo is hand written\n",
    "    elif ( 75 > tratio > 4):\n",
    "        #the photo is camera captured\n",
    "    else: \n",
    "        #the photo is scanned"
   ]
  }
 ],
 "metadata": {
  "kernelspec": {
   "display_name": "Python 3",
   "language": "python",
   "name": "python3"
  },
  "language_info": {
   "codemirror_mode": {
    "name": "ipython",
    "version": 3
   },
   "file_extension": ".py",
   "mimetype": "text/x-python",
   "name": "python",
   "nbconvert_exporter": "python",
   "pygments_lexer": "ipython3",
   "version": "3.8.5"
  }
 },
 "nbformat": 4,
 "nbformat_minor": 2
}
