{
 "cells": [
  {
   "cell_type": "code",
   "execution_count": 3,
   "metadata": {},
   "outputs": [],
   "source": [
    "from commonfunctions import *\n",
    "import math\n",
    "\n",
    "# Show the matlpotlib figures inside the notebook\n",
    "%matplotlib inline"
   ]
  },
  {
   "cell_type": "code",
   "execution_count": 1,
   "metadata": {},
   "outputs": [],
   "source": [
    "def deskew(img):\n",
    "    edged = cv2.Canny(img, 50, 200, None, 3)\n",
    "    linesP = cv2.HoughLinesP(edged, 1, np.pi / 180, min(img.shape[0], img.shape[1]) // 4, None, 0, 20)\n",
    "    # if linesP is not None:\n",
    "    #     for i in range(0, len(linesP)):\n",
    "    #         l = linesP[i][0]\n",
    "    #         cv2.line(img, (l[0], l[1]), (l[2], l[3]), (125,125,125), 3, cv2.LINE_AA)\n",
    "    slopes = [(y2 - y1)/(x2 - x1) if (x2-x1) else math.inf for x1, y1, x2, y2 in linesP[:,0,:]]\n",
    "    deg_angles = [round(np.degrees(np.arctan(x)), 2) for x in slopes]\n",
    "\n",
    "    histo = np.histogram(deg_angles, bins=180)\n",
    "    bar(histo[1][:180].astype(np.uint8), histo[0][:180], width=0.8, align='center')\n",
    "    # most frequent slope of all lines\n",
    "    rotation_number = histo[1][np.argmax(histo[0])]\n",
    "    print(rotation_number)\n",
    "    rotated = rotate(img, rotation_number, resize=True, mode=\"edge\")\n",
    "    if rotated.dtype != \"uint8\":\n",
    "        return (rotated * 255).astype(\"uint8\")\n",
    "    return rotated"
   ]
  },
  {
   "cell_type": "code",
   "execution_count": 1,
   "metadata": {},
   "outputs": [
    {
     "output_type": "error",
     "ename": "NameError",
     "evalue": "name 'load_images_from_folder' is not defined",
     "traceback": [
      "\u001b[1;31m---------------------------------------------------------------------------\u001b[0m",
      "\u001b[1;31mNameError\u001b[0m                                 Traceback (most recent call last)",
      "\u001b[1;32m<ipython-input-1-88e195910c2d>\u001b[0m in \u001b[0;36m<module>\u001b[1;34m\u001b[0m\n\u001b[1;32m----> 1\u001b[1;33m \u001b[0mimages\u001b[0m\u001b[1;33m,\u001b[0m \u001b[0mfiles\u001b[0m \u001b[1;33m=\u001b[0m \u001b[0mload_images_from_folder\u001b[0m\u001b[1;33m(\u001b[0m\u001b[1;34m\"../inputs/test-set-scanned/test-cases\"\u001b[0m\u001b[1;33m)\u001b[0m\u001b[1;33m\u001b[0m\u001b[1;33m\u001b[0m\u001b[0m\n\u001b[0m\u001b[0;32m      2\u001b[0m \u001b[1;31m# images, files = load_images_from_folder(\"../inputs/test-set-camera-captured/test-cases\")\u001b[0m\u001b[1;33m\u001b[0m\u001b[1;33m\u001b[0m\u001b[1;33m\u001b[0m\u001b[0m\n\u001b[0;32m      3\u001b[0m \u001b[0moutpath\u001b[0m \u001b[1;33m=\u001b[0m \u001b[1;34m\"../outputs/\"\u001b[0m\u001b[1;33m\u001b[0m\u001b[1;33m\u001b[0m\u001b[0m\n\u001b[0;32m      4\u001b[0m \u001b[1;32mfor\u001b[0m \u001b[0mimage\u001b[0m\u001b[1;33m,\u001b[0m \u001b[0mfile\u001b[0m \u001b[1;32min\u001b[0m \u001b[0mzip\u001b[0m\u001b[1;33m(\u001b[0m\u001b[0mimages\u001b[0m\u001b[1;33m,\u001b[0m \u001b[0mfiles\u001b[0m\u001b[1;33m)\u001b[0m\u001b[1;33m:\u001b[0m\u001b[1;33m\u001b[0m\u001b[1;33m\u001b[0m\u001b[0m\n\u001b[0;32m      5\u001b[0m     \u001b[0mh\u001b[0m\u001b[1;33m,\u001b[0m \u001b[0mw\u001b[0m \u001b[1;33m=\u001b[0m \u001b[0mimage\u001b[0m\u001b[1;33m.\u001b[0m\u001b[0mshape\u001b[0m\u001b[1;33m\u001b[0m\u001b[1;33m\u001b[0m\u001b[0m\n",
      "\u001b[1;31mNameError\u001b[0m: name 'load_images_from_folder' is not defined"
     ]
    }
   ],
   "source": [
    "images, files = load_images_from_folder(\"../inputs/test-set-scanned/test-cases\")\n",
    "# images, files = load_images_from_folder(\"../inputs/test-set-camera-captured/test-cases\")\n",
    "outpath = \"../outputs/\"\n",
    "for image, file in zip(images, files):\n",
    "    h, w = image.shape\n",
    "    # _, wid = get_dimensions(w, h)\n",
    "    # if wid != 0:\n",
    "    #     image = resize(image, width = wid)\n",
    "    fixed = deskew(image)\n",
    "    show_images([image, fixed], [file, \"fixed\"])\n",
    "    cv2.imwrite(outpath + file, fixed)"
   ]
  },
  {
   "cell_type": "code",
   "execution_count": null,
   "metadata": {},
   "outputs": [],
   "source": []
  }
 ],
 "metadata": {
  "kernelspec": {
   "display_name": "Python 3",
   "language": "python",
   "name": "python3"
  },
  "language_info": {
   "codemirror_mode": {
    "name": "ipython",
    "version": 3
   },
   "file_extension": ".py",
   "mimetype": "text/x-python",
   "name": "python",
   "nbconvert_exporter": "python",
   "pygments_lexer": "ipython3",
   "version": "3.7.4-final"
  }
 },
 "nbformat": 4,
 "nbformat_minor": 2
}