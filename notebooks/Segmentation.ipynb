{
 "cells": [
  {
   "cell_type": "code",
   "execution_count": 2,
   "metadata": {},
   "outputs": [],
   "source": [
    "from commonfunctions import *\n",
    "path = '../inputs/'"
   ]
  },
  {
   "cell_type": "code",
   "execution_count": 3,
   "metadata": {},
   "outputs": [],
   "source": [
    "def integral_image(img):\n",
    "    rows,cols = img.shape\n",
    "    int_img = np.zeros(img.shape)\n",
    "    int_img[0][0] = img[0][0]\n",
    "    for r in range(1,rows):\n",
    "        int_img[r][0] = int_img[r-1][0] + img[r][0]    \n",
    "    for c in range(1,cols):\n",
    "        int_img[0][c] = int_img[0][c-1] + img[0][c]  \n",
    "    for r in range(1,rows):\n",
    "        for c in range(1,cols):\n",
    "            int_img[r][c] = img[r][c]+int_img[r][c-1] +int_img[r-1][c] - int_img[r-1][c-1] \n",
    "    return int_img"
   ]
  },
  {
   "cell_type": "code",
   "execution_count": 4,
   "metadata": {},
   "outputs": [],
   "source": [
    "def Segment(img,window,t =10):\n",
    "    rows,cols = img.shape\n",
    "    output = np.zeros(img.shape, dtype=\"uint8\")\n",
    "    int_img = integral_image(img)\n",
    "    s = int(window/2)\n",
    "    p_img = np.pad(img,s,\"constant\")\n",
    "    p_int = np.pad(int_img,s,'edge')\n",
    "    for r in range(s+1,rows+s):\n",
    "        for c in range(s+1,cols+s):\n",
    "            x1 = c-s\n",
    "            x2 = c+s\n",
    "            y1 = r-s\n",
    "            y2 = r+s\n",
    "            count = (x2-x1)*(y2-y1)\n",
    "            sum = p_int[y2,x2] - p_int[y2,x1-1] - p_int[y1-1,x2] + p_int[y1-1,x1-1]\n",
    "            if(img[r-s][c-s]*count)<=(sum*(100-t)/100):\n",
    "                output[r-s][c-s]=0\n",
    "            else:\n",
    "                output[r-s][c-s]=255\n",
    "    return output        \n",
    "                "
   ]
  },
  {
   "cell_type": "code",
   "execution_count": 5,
   "metadata": {},
   "outputs": [
    {
     "name": "stdout",
     "output_type": "stream",
     "text": [
      "[[4, 1, 2, 2], [0, 4, 1, 3], [3, 1, 0, 4], [2, 1, 3, 2]]\n"
     ]
    }
   ],
   "source": [
    "img = [[4,1,2,2],\n",
    "       [0,4,1,3],\n",
    "       [3,1,0,4],\n",
    "       [2,1,3,2],]\n",
    "print(img)\n",
    "test = integral_image(np.array(img))"
   ]
  },
  {
   "cell_type": "code",
   "execution_count": 6,
   "metadata": {},
   "outputs": [
    {
     "name": "stdout",
     "output_type": "stream",
     "text": [
      "[[ 0.  0.  0.  0.  0.  0.  0.  0.]\n",
      " [ 0.  0.  0.  0.  0.  0.  0.  0.]\n",
      " [ 0.  0.  4.  5.  7.  9.  0.  0.]\n",
      " [ 0.  0.  4.  9. 12. 17.  0.  0.]\n",
      " [ 0.  0.  7. 13. 16. 25.  0.  0.]\n",
      " [ 0.  0.  9. 16. 22. 33.  0.  0.]\n",
      " [ 0.  0.  0.  0.  0.  0.  0.  0.]\n",
      " [ 0.  0.  0.  0.  0.  0.  0.  0.]]\n"
     ]
    }
   ],
   "source": [
    "pew = np.pad(test,2,'constant')\n",
    "print(pew)"
   ]
  },
  {
   "cell_type": "code",
   "execution_count": 8,
   "metadata": {},
   "outputs": [],
   "source": [
    "sheet = io.imread(path+\"music1.jpg\")\n",
    "sheet_t = Segment(rgb2gray(sheet),11,33)\n",
    "io.imsave('t1.jpg',sheet_t)"
   ]
  },
  {
   "cell_type": "code",
   "execution_count": 9,
   "metadata": {},
   "outputs": [],
   "source": [
    "sheet2 = io.imread(path+\"music2.jpg\")\n",
    "sheet_t2 = Segment(rgb2gray(sheet2),11,33)\n",
    "io.imsave('t2.jpg',sheet_t2)"
   ]
  },
  {
   "cell_type": "code",
   "execution_count": 29,
   "metadata": {},
   "outputs": [
    {
     "name": "stdout",
     "output_type": "stream",
     "text": [
      "(240, 320)\n"
     ]
    }
   ],
   "source": [
    "print(book.shape)"
   ]
  },
  {
   "cell_type": "code",
   "execution_count": null,
   "metadata": {},
   "outputs": [],
   "source": []
  }
 ],
 "metadata": {
  "kernelspec": {
   "display_name": "Python 3",
   "language": "python",
   "name": "python3"
  },
  "language_info": {
   "codemirror_mode": {
    "name": "ipython",
    "version": 3
   },
   "file_extension": ".py",
   "mimetype": "text/x-python",
   "name": "python",
   "nbconvert_exporter": "python",
   "pygments_lexer": "ipython3",
   "version": "3.7.4"
  }
 },
 "nbformat": 4,
 "nbformat_minor": 2
}
