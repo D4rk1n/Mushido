{
 "cells": [
  {
   "cell_type": "code",
   "execution_count": 2,
   "metadata": {},
   "outputs": [],
   "source": [
    "from commonfunctions import *\n",
    "import cv2\n",
    "inpath = '../inputs/'\n",
    "outpath = '../outputs/segmentation/'"
   ]
  },
  {
   "cell_type": "code",
   "execution_count": 3,
   "metadata": {},
   "outputs": [],
   "source": [
    "def integral_image(img):\n",
    "    rows,cols = img.shape\n",
    "    int_img = np.zeros(img.shape)\n",
    "    int_img[0][0] = img[0][0]\n",
    "    for r in range(1,rows):\n",
    "        int_img[r][0] = int_img[r-1][0] + img[r][0]    \n",
    "    for c in range(1,cols):\n",
    "        int_img[0][c] = int_img[0][c-1] + img[0][c]  \n",
    "    for r in range(1,rows):\n",
    "        for c in range(1,cols):\n",
    "            int_img[r][c] = img[r][c]+int_img[r][c-1] +int_img[r-1][c] - int_img[r-1][c-1] \n",
    "    return int_img"
   ]
  },
  {
   "cell_type": "code",
   "execution_count": 15,
   "metadata": {},
   "outputs": [],
   "source": [
    "def resize(image, width = None, height = None, inter = cv2.INTER_AREA):\n",
    "    dim = None\n",
    "    (h, w) = image.shape[:2]\n",
    "\n",
    "    if width is None and height is None:\n",
    "        return image\n",
    "    if width is None:\n",
    "        r = height / float(h)\n",
    "        dim = (int(w * r), height)\n",
    "    else:\n",
    "        r = width / float(w)\n",
    "        dim = (width, int(h * r))\n",
    "    resized = cv2.resize(image, dim, interpolation = inter)\n",
    "    return resized"
   ]
  },
  {
   "cell_type": "code",
   "execution_count": 4,
   "metadata": {},
   "outputs": [],
   "source": [
    "def Segment(img,window,t =10):\n",
    "    rows,cols = img.shape\n",
    "    output = np.zeros(img.shape, dtype=\"uint8\")\n",
    "    int_img = integral_image(img)\n",
    "    s = int(window/2)\n",
    "    p_img = np.pad(img,s,\"constant\")\n",
    "    p_int = np.pad(int_img,s,'edge')\n",
    "    for r in range(s+1,rows+s):\n",
    "        for c in range(s+1,cols+s):\n",
    "            x1 = c-s\n",
    "            x2 = c+s\n",
    "            y1 = r-s\n",
    "            y2 = r+s\n",
    "            count = (x2-x1)*(y2-y1)\n",
    "            sum = p_int[y2,x2] - p_int[y2,x1-1] - p_int[y1-1,x2] + p_int[y1-1,x1-1]\n",
    "            if(img[r-s][c-s]*count)<=(sum*(100-t)/100):\n",
    "                output[r-s][c-s]=0\n",
    "            else:\n",
    "                output[r-s][c-s]=255\n",
    "    return output        \n",
    "                "
   ]
  },
  {
   "cell_type": "code",
   "execution_count": 19,
   "metadata": {},
   "outputs": [
    {
     "name": "stdout",
     "output_type": "stream",
     "text": [
      "772000\n"
     ]
    }
   ],
   "source": [
    "sheet = io.imread(inpath+\"24.jpg\")\n",
    "sheet = resize(sheet , height = 500)\n",
    "w , h , c  = sheet.shape \n",
    "print( w*h)\n",
    "sheet_t = Segment(rgb2gray(sheet),31,25)\n",
    "io.imsave(outpath+'1.jpg',sheet_t)"
   ]
  },
  {
   "cell_type": "code",
   "execution_count": 24,
   "metadata": {},
   "outputs": [
    {
     "name": "stdout",
     "output_type": "stream",
     "text": [
      "474000\n"
     ]
    }
   ],
   "source": [
    "sheet1 = io.imread(inpath+\"11.jpg\")\n",
    "sheet1 = resize(sheet1 , height = 500)\n",
    "w , h , c  = sheet1.shape \n",
    "print( w*h)\n",
    "sheet_t1 = Segment(rgb2gray(sheet1),15,15)\n",
    "io.imsave(outpath+'3.jpg',sheet_t1)"
   ]
  },
  {
   "cell_type": "code",
   "execution_count": 28,
   "metadata": {},
   "outputs": [
    {
     "name": "stdout",
     "output_type": "stream",
     "text": [
      "402363\n"
     ]
    }
   ],
   "source": [
    "sheet3 = io.imread(inpath+\"4.png\")\n",
    "#sheet3 = resize(sheet3 , height = 500)\n",
    "w , h , c  = sheet3.shape \n",
    "print( w*h)\n",
    "sheet_t3 = Segment(rgb2gray(sheet3),15,15)\n",
    "io.imsave(outpath+'4.jpg',sheet_t3)"
   ]
  },
  {
   "cell_type": "code",
   "execution_count": 20,
   "metadata": {},
   "outputs": [
    {
     "name": "stdout",
     "output_type": "stream",
     "text": [
      "942020\n"
     ]
    }
   ],
   "source": [
    "sheet2 = io.imread(inpath+\"music2.jpg\")\n",
    "sheet_t2 = Segment(rgb2gray(sheet2),31,25)\n",
    "w , h , c  = sheet2.shape \n",
    "print( w*h)\n",
    "io.imsave(outpath+'2.jpg',sheet_t2)"
   ]
  },
  {
   "cell_type": "code",
   "execution_count": 13,
   "metadata": {},
   "outputs": [
    {
     "name": "stdout",
     "output_type": "stream",
     "text": [
      "(670, 1406, 3)\n"
     ]
    }
   ],
   "source": [
    "print(sheet2.shape)"
   ]
  },
  {
   "cell_type": "code",
   "execution_count": 6,
   "metadata": {},
   "outputs": [
    {
     "data": {
      "text/plain": [
       "<matplotlib.image.AxesImage at 0x1312530>"
      ]
     },
     "execution_count": 6,
     "metadata": {},
     "output_type": "execute_result"
    },
    {
     "data": {
      "image/png": "[encoded data removed]",
      "text/plain": [
       "<Figure size 432x288 with 1 Axes>"
      ]
     },
     "metadata": {
      "needs_background": "light"
     },
     "output_type": "display_data"
    }
   ],
   "source": [
    "io.imshow(sheet_t)"
   ]
  },
  {
   "cell_type": "code",
   "execution_count": null,
   "metadata": {},
   "outputs": [],
   "source": []
  }
 ],
 "metadata": {
  "kernelspec": {
   "display_name": "Python 3",
   "language": "python",
   "name": "python3"
  },
  "language_info": {
   "codemirror_mode": {
    "name": "ipython",
    "version": 3
   },
   "file_extension": ".py",
   "mimetype": "text/x-python",
   "name": "python",
   "nbconvert_exporter": "python",
   "pygments_lexer": "ipython3",
   "version": "3.7.4"
  }
 },
 "nbformat": 4,
 "nbformat_minor": 2
}
