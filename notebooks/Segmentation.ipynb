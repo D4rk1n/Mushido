{
 "cells": [
  {
   "cell_type": "code",
   "execution_count": 1,
   "metadata": {},
   "outputs": [],
   "source": [
    "from commonfunctions import *\n",
    "import cv2\n",
    "inpath = '../inputs/'\n",
    "outpath = '../outputs/segmentation/'"
   ]
  },
  {
   "cell_type": "code",
   "execution_count": 2,
   "metadata": {},
   "outputs": [],
   "source": [
    "def integral_image(img):\n",
    "    rows,cols = img.shape\n",
    "    int_img = np.zeros(img.shape)\n",
    "    int_img[0][0] = img[0][0]\n",
    "    for r in range(1,rows):\n",
    "        int_img[r][0] = int_img[r-1][0] + img[r][0]    \n",
    "    for c in range(1,cols):\n",
    "        int_img[0][c] = int_img[0][c-1] + img[0][c]  \n",
    "    for r in range(1,rows):\n",
    "        for c in range(1,cols):\n",
    "            int_img[r][c] = img[r][c]+int_img[r][c-1] +int_img[r-1][c] - int_img[r-1][c-1] \n",
    "    return int_img"
   ]
  },
  {
   "cell_type": "code",
   "execution_count": 3,
   "metadata": {},
   "outputs": [],
   "source": [
    "def Segment(img,window,t =10):\n",
    "    rows,cols = img.shape\n",
    "    output = np.zeros(img.shape, dtype=\"uint8\")\n",
    "    int_img = integral_image(img)\n",
    "    s = int(window/2)\n",
    "    p_img = np.pad(img,s,\"constant\")\n",
    "    p_int = np.pad(int_img,s,'edge')\n",
    "    for r in range(s+1,rows+s):\n",
    "        for c in range(s+1,cols+s):\n",
    "            x1 = c-s\n",
    "            x2 = c+s\n",
    "            y1 = r-s\n",
    "            y2 = r+s\n",
    "            count = (x2-x1)*(y2-y1)\n",
    "            sum = p_int[y2,x2] - p_int[y2,x1-1] - p_int[y1-1,x2] + p_int[y1-1,x1-1]\n",
    "            if(img[r-s][c-s]*count)<=(sum*(100-t)/100):\n",
    "                output[r-s][c-s]=0\n",
    "            else:\n",
    "                output[r-s][c-s]=255\n",
    "    return output        \n",
    "                "
   ]
  },
  {
   "cell_type": "code",
   "execution_count": 70,
   "metadata": {},
   "outputs": [
    {
     "data": {
      "image/png": "[encoded data removed]",
      "text/plain": [
       "<Figure size 432x288 with 1 Axes>"
      ]
     },
     "metadata": {
      "needs_background": "light"
     },
     "output_type": "display_data"
    }
   ],
   "source": [
    "sheet = cv2.imread(inpath+\"01.jpg\")\n",
    "sheet_t = Segment(cv2.cvtColor(sheet, cv2.COLOR_BGR2GRAY),11,33)\n",
    "\n",
    "img = sheet.copy()  \n",
    "gray = cv2.cvtColor(img,cv2.COLOR_BGR2GRAY)\n",
    "edges = cv2.Canny(gray,50,150)\n",
    "\n",
    "minLineLength = (img.shape[1] * 2 // 3)\n",
    "temp_lines = []\n",
    "hough = cv2.HoughLines(edges,1,np.pi/180,minLineLength)\n",
    "for rho,theta in hough[:,0,:]:\n",
    "    if theta < 10:\n",
    "        a = np.cos(theta)\n",
    "        b = np.sin(theta)\n",
    "        x0 = a*rho\n",
    "        y0 = b*rho\n",
    "        x1 = int(x0 + img.shape[1]*(-b))\n",
    "        y1 = int(y0 + img.shape[1]*(a))\n",
    "        x2 = int(x0 - img.shape[1]*(-b))\n",
    "        y2 = int(y0 - img.shape[1]*(a))\n",
    "\n",
    "        cv2.line(img,(x1,y1),(x2,y2),(255,0,0),1)\n",
    "        temp_lines.append((rho, theta))\n",
    "temp_lines.sort()\n",
    "show_images([img])\n",
    "# now we have lines"
   ]
  },
  {
   "cell_type": "code",
   "execution_count": 75,
   "metadata": {},
   "outputs": [
    {
     "name": "stdout",
     "output_type": "stream",
     "text": [
      "5\n"
     ]
    }
   ],
   "source": [
    "# remove repeated lines\n",
    "lines = []\n",
    "j = -1\n",
    "for i in range(0, len(temp_lines)):\n",
    "    if j < 0 or abs(lines[j][0] - temp_lines[i][0]) > 5 or abs(lines[j][1] - temp_lines[i][1]) > 2:\n",
    "        lines.append(temp_lines[i])\n",
    "        j += 1\n",
    "remove\n",
    "print(len(lines))"
   ]
  },
  {
   "cell_type": "code",
   "execution_count": null,
   "metadata": {},
   "outputs": [],
   "source": [
    "sheet2 = io.imread(inpath+\"02.png\")\n",
    "sheet_t2 = Segment(rgb2gray(sheet2),11,33)\n",
    "io.imsave(outpath+'2.jpg',sheet_t2)"
   ]
  },
  {
   "cell_type": "code",
   "execution_count": null,
   "metadata": {},
   "outputs": [],
   "source": []
  },
  {
   "cell_type": "code",
   "execution_count": null,
   "metadata": {},
   "outputs": [],
   "source": []
  }
 ],
 "metadata": {
  "kernelspec": {
   "display_name": "Python 3",
   "language": "python",
   "name": "python3"
  },
  "language_info": {
   "codemirror_mode": {
    "name": "ipython",
    "version": 3
   },
   "file_extension": ".py",
   "mimetype": "text/x-python",
   "name": "python",
   "nbconvert_exporter": "python",
   "pygments_lexer": "ipython3",
   "version": "3.8.5"
  }
 },
 "nbformat": 4,
 "nbformat_minor": 2
}
