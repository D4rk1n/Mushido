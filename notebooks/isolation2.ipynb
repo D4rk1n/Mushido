{
 "cells": [
  {
   "cell_type": "code",
   "execution_count": 1,
   "metadata": {},
   "outputs": [],
   "source": [
    "\n",
    "\n",
    "from commonfunctions import *\n",
    "inpath = '../inputs/'\n",
    "outpath = '../outputs/segmentation/'\n",
    "import time\n",
    "import joblib\n",
    "\n",
    "# load model\n",
    "filename = '../music_notes_NN.joblib.pkl'\n",
    "nn = joblib.load(filename)\n",
    "classes = nn.classes_\n",
    "\n",
    "line_to_char = {}\n",
    "line_to_char[13] = 'c1'\n",
    "line_to_char[12] = 'd1'\n",
    "line_to_char[11] = 'e1'\n",
    "line_to_char[10] = 'f1'\n",
    "line_to_char[9] = 'g1'\n",
    "line_to_char[8] = 'a1'\n",
    "line_to_char[7] = 'b1'\n",
    "line_to_char[6] = 'c2'\n",
    "line_to_char[5] = 'd2'\n",
    "line_to_char[4] = 'e2'\n",
    "line_to_char[3] = 'f2'\n",
    "line_to_char[2] = 'g2'\n",
    "line_to_char[1] = 'a2'\n",
    "line_to_char[0] = 'b2'"
   ]
  },
  {
   "cell_type": "code",
   "execution_count": 20,
   "metadata": {},
   "outputs": [],
   "source": [
    "target_img_size = (32, 32) \n",
    "def extract_hog_features(img):\n",
    "    \"\"\"\n",
    "    TODO\n",
    "    You won't implement anything in this function. You just need to understand it \n",
    "    and understand its parameters (i.e win_size, cell_size, ... etc)\n",
    "    \"\"\"\n",
    "    img = cv2.resize(img, target_img_size)\n",
    "    win_size = (32, 32)\n",
    "    cell_size = (4, 4)\n",
    "    block_size_in_cells = (2, 2)\n",
    "    \n",
    "    block_size = (block_size_in_cells[1] * cell_size[1], block_size_in_cells[0] * cell_size[0])\n",
    "    block_stride = (cell_size[1], cell_size[0])\n",
    "    nbins = 9  # Number of orientation bins\n",
    "    hog = cv2.HOGDescriptor(win_size, block_size, block_stride, cell_size, nbins)\n",
    "    h = hog.compute(img)\n",
    "    h = h.flatten()\n",
    "    return h.flatten()\n",
    "\n",
    "def getContours(img):\n",
    "    kernel = np.array([\n",
    "        [0, 1, 0],\n",
    "        [0, 1, 0],\n",
    "        [0, 1, 0]\n",
    "    ], np.uint8)\n",
    "    img = cv2.dilate(img,kernel,iterations = 10) # to merge 2 number together\n",
    "    contours, _ = cv2.findContours(img, cv2.RETR_TREE, cv2.CHAIN_APPROX_SIMPLE)\n",
    "\n",
    "    boxes = []\n",
    "    for contour in contours:\n",
    "        x,y,w,h = cv2.boundingRect(contour)\n",
    "        if h > d and w > d:\n",
    "            i = len(boxes) - 1\n",
    "            if i == -1 or not (x + w <= boxes[i][0] + boxes[i][2] and x >= boxes[i][0]): # remove overlaped contours\n",
    "                boxes.append((x, y, w, h))\n",
    "\n",
    "    return np.array(boxes)\n",
    "\n",
    "def xProjection(img):\n",
    "    \"Return a list containing the sum of the pixels in each column\"\n",
    "    (h, w) = img.shape[:2]\n",
    "    sumCols = []\n",
    "    for j in range(0, w, 8):\n",
    "        mx = 0\n",
    "        tmp = 0\n",
    "        for i in range(h):\n",
    "            if np.all(img[i, j : j + 8] == 255):\n",
    "                tmp += 1\n",
    "            else:\n",
    "                mx = max(mx, tmp)\n",
    "                tmp = 0\n",
    "        mx = max(mx, tmp)    \n",
    "        sumCols.append(mx)\n",
    "    return np.array(sumCols)\n",
    "\n",
    "def yProjection(img):\n",
    "    \"Return a list containing the sum of the pixels in each row\"\n",
    "    (h, w) = img.shape[:2]\n",
    "    sumRows = []\n",
    "    for i in range(h):\n",
    "        tmp = 0\n",
    "        for j in range(w):\n",
    "            if img[i, j] == 255:\n",
    "                tmp += 1\n",
    "        sumRows.append(tmp)\n",
    "    return np.array(sumRows)\n",
    "\n",
    "def getNoteHeads(img, d):\n",
    "    x = xProjection(img)\n",
    "    x[x < d // 2] = 0\n",
    "\n",
    "    points = []\n",
    "    tx1, tx2 = -1, -1\n",
    "    for i in range(len(x)):\n",
    "        if x[i]:\n",
    "            if tx1 == -1:\n",
    "                tx1 = i * 8\n",
    "\n",
    "        elif tx1 != -1:\n",
    "            tx2 = i * 8\n",
    "            points.append((tx1, tx2))\n",
    "            tx1, tx2 = -1, -1\n",
    "            \n",
    "    if tx1 != -1:\n",
    "        tx2 = (len(x) - 1) * 8\n",
    "        points.append((tx1, tx2))\n",
    "        \n",
    "    mask = img.copy()\n",
    "    mask[:] = 0\n",
    "\n",
    "    (h, w) = img.shape[:2]\n",
    "    for px1, px2 in points:\n",
    "        cv2.rectangle(mask,(px1,0),(px2,h),(255,255,255),-1)\n",
    "\n",
    "    img[mask != 255] = 0\n",
    "    kernel = np.ones((3,3), np.uint8)\n",
    "    img = cv2.erode(img,kernel,iterations = 3)\n",
    "\n",
    "    contours, _ = cv2.findContours(img, cv2.RETR_TREE, cv2.CHAIN_APPROX_SIMPLE)\n",
    "    boxes = []\n",
    "    for contour in contours:\n",
    "        x,y,w,h = cv2.boundingRect(contour)\n",
    "        if h > d // 2:\n",
    "            i = len(boxes) - 1\n",
    "            if i == -1 or not (x + w <= boxes[i][0] + boxes[i][2] and x >= boxes[i][0]): # remove overlaped contours\n",
    "                boxes.append((x, y, w, h))\n",
    "    for box in boxes:\n",
    "        x,y,w,h = box\n",
    "        cv2.rectangle(img, (x,y), (x+w,y+h), (255,0,0), 3)\n",
    "    \n",
    "    show_images([img])\n",
    "            \n",
    "    return np.array(boxes)\n",
    "\n",
    "def getLines(img):\n",
    "    img *= 255\n",
    "    img = 255 - img\n",
    "    y = yProjection(img)\n",
    "    y[y < 100] = 0\n",
    "        \n",
    "    points = []\n",
    "    ty1, ty2 = -1, -1\n",
    "    for i in range(len(y)):\n",
    "        if y[i]:\n",
    "            if ty1 == -1:\n",
    "                ty1 = i\n",
    "\n",
    "        elif ty1 != -1:\n",
    "            ty2 = i\n",
    "            points.append((ty1, ty2))\n",
    "            ty1, ty2 = -1, -1\n",
    "\n",
    "    if ty1 != -1:\n",
    "        ty2 = (len(y) - 1) * 8\n",
    "        points.append((ty1, ty2))\n",
    "    \n",
    "    points = np.array(points)\n",
    "    points = [(p[0] + p[1]) // 2 for p in points]\n",
    "        \n",
    "    d = 0\n",
    "    for i in range(1, len(points)):\n",
    "        d += abs(points[i - 1] - points[i])\n",
    "    d //= len(points) - 1\n",
    "    \n",
    "    p1 = points[0]\n",
    "    for i in range(1):\n",
    "        tmp = p1 - (i + 1) * d\n",
    "        points.insert(0, tmp)\n",
    "    p1 = points[-1]\n",
    "    for i in range(1):\n",
    "        tmp = p1 + (i + 1) * d\n",
    "        points.append(tmp)\n",
    "        \n",
    "    tmp_points = []\n",
    "    \n",
    "    for p in points:\n",
    "        tmp_points.append(p)\n",
    "        tmp_points.append(p + (d // 2))\n",
    "    \n",
    "    tmp_points.pop(len(tmp_points) - 1)\n",
    "    p1 = tmp_points[0] - (d // 2)\n",
    "    tmp_points.insert(0, p1)\n",
    "    \n",
    "    return tmp_points, d"
   ]
  },
  {
   "cell_type": "code",
   "execution_count": 3,
   "metadata": {},
   "outputs": [],
   "source": [
    " def get_candidates_lines(bimg, thickness):\n",
    "    fimg = np.copy(bimg)\n",
    "    candidates = [] # Contains list of candidate staffs lines (row, begin, height)\n",
    "    cols = fimg.shape[1]\n",
    "    rows = fimg.shape[0]\n",
    "    delta = max(1 , thickness//3)\n",
    "    t2 = thickness+ delta\n",
    "    t1 = abs(thickness-delta)\n",
    "    flag = False\n",
    "    for i in range(cols):\n",
    "        for j in range(rows):\n",
    "            if fimg[j,i] == 0 and flag == False:\n",
    "                beg = j\n",
    "                flag = True\n",
    "            elif fimg[j,i] == 1 and flag == True:\n",
    "                flag = False\n",
    "                if j-beg > t2 or j-beg < t1:\n",
    "                    fimg[beg:j, i] = 1\n",
    "                else:\n",
    "                    candidates.append((i, beg, j-beg))\n",
    "    return fimg, candidates\n"
   ]
  },
  {
   "cell_type": "code",
   "execution_count": 4,
   "metadata": {},
   "outputs": [],
   "source": [
    "def filter_candidates_lines(bimg,v,thickness , distance):\n",
    "    fimg = np.copy(bimg)\n",
    "    candidates = np.copy(v) \n",
    "    cols = fimg.shape[1]\n",
    "    rows = fimg.shape[0]\n",
    "    for c in candidates:\n",
    "        i, beg, t = c\n",
    "        if np.any(fimg[beg-distance+thickness:beg-1, i] == 0):\n",
    "            fimg[beg:beg+t, i] = 1\n",
    "    return fimg, candidates\n"
   ]
  },
  {
   "cell_type": "code",
   "execution_count": 5,
   "metadata": {},
   "outputs": [],
   "source": [
    "def remove_thin_lines(v, csl, thickness):\n",
    "    cols = csl.shape[1]\n",
    "    rows = csl.shape[0]\n",
    "    candidates = v.copy()\n",
    "    img = np.copy(csl)\n",
    "    eliminated = []\n",
    "    for i in candidates:\n",
    "        col, begin, length = i\n",
    "        maxWidthLeft = 0\n",
    "        maxWidthRight = 0\n",
    "        wLeft = 0\n",
    "        wRight = 0\n",
    "        while col+wLeft+1 < cols and begin < i[1]+length:\n",
    "            if csl[begin, col+wLeft+1] == 0:\n",
    "                wLeft += 1\n",
    "            else:\n",
    "                begin += 1\n",
    "                maxWidthLeft = max(maxWidthLeft, wLeft)\n",
    "                wLeft = 0\n",
    "        maxWidthLeft = max(maxWidthLeft, wLeft)\n",
    "        begin = i[1]\n",
    "        while col-wRight-1 >= 0 and begin < i[1]+length:\n",
    "            if csl[begin, col-wRight-1] == 0:\n",
    "                wRight += 1\n",
    "            else:\n",
    "                begin += 1\n",
    "                maxWidthRight = max(maxWidthRight, wRight)\n",
    "                wRight = 0\n",
    "        maxWidthRight = max(maxWidthRight, wRight)\n",
    "        width = maxWidthRight + maxWidthLeft +1\n",
    "        if(width < 2*thickness):\n",
    "            img[i[1]:i[1]+i[2], i[0]] = 1\n",
    "            v.remove(i)\n",
    "            eliminated.append(i)\n",
    "    return img, v, eliminated"
   ]
  },
  {
   "cell_type": "code",
   "execution_count": 6,
   "metadata": {},
   "outputs": [],
   "source": [
    "def remove_lonely_lines(v, filteredImg, staffHeight, spaceHeight, eliminated):\n",
    "    verConnected = False\n",
    "    horConnected = False\n",
    "    c = v.copy()\n",
    "    img = np.copy(filteredImg)\n",
    "    cols = filteredImg.shape[1]\n",
    "    rows = filteredImg.shape[0]\n",
    "    staffs = np.ones(img.shape)\n",
    "\n",
    "    for i in c:\n",
    "        verConnected = False\n",
    "        horConnected = False\n",
    "        \n",
    "        col, begin, length = i\n",
    "        \n",
    "        if col-1>=0 and np.any(filteredImg[begin:begin+length , col-1] == 0):\n",
    "            horConnected = True\n",
    "        if col+1<cols and np.any(filteredImg[begin:begin+length ,col+1] == 0):\n",
    "            horConnected = True\n",
    "            \n",
    "        start = max(begin-(spaceHeight+staffHeight), 0)\n",
    "        end = min(rows, begin+length+spaceHeight+staffHeight-1)\n",
    "        if np.any(filteredImg[start:begin, col] == 0) or np.any(filteredImg[begin+length:end, col] == 0):\n",
    "            verConnected = True\n",
    "            \n",
    "        if not (verConnected and horConnected):\n",
    "            img[i[1]:i[1]+i[2], i[0]] = 1\n",
    "            v.remove(i)\n",
    "            eliminated.append(i)\n",
    "    for i in v:\n",
    "        staffs[i[1]:i[1]+i[2],i[0]] = 0\n",
    "    return staffs, v, eliminated"
   ]
  },
  {
   "cell_type": "code",
   "execution_count": 7,
   "metadata": {},
   "outputs": [],
   "source": [
    "def add_false_negative_lines(v, filteredImg, staffHeight, spaceHeight, eliminated):\n",
    "    verConnected = False\n",
    "    horConnected = False\n",
    "    c = v.copy()\n",
    "    eliminated.copy()\n",
    "    img = np.copy(filteredImg)\n",
    "    cols = filteredImg.shape[1]\n",
    "    rows = filteredImg.shape[0]\n",
    "    \n",
    "    for i in eliminated:\n",
    "        verConnected = False\n",
    "        horConnected = False\n",
    "        \n",
    "        col, begin, length = i\n",
    "        \n",
    "        if col-1>=0 and np.any(filteredImg[begin:begin+length , col-1]):\n",
    "            horConnected = True\n",
    "        if col+1<cols and np.any(filteredImg[begin:begin+length ,col+1]):\n",
    "            horConnected = True\n",
    "        start = max(begin-(spaceHeight+staffHeight), 0)\n",
    "        end = min(rows, begin+length+spaceHeight+staffHeight)\n",
    "        if np.any(filteredImg[start:begin, col]) or np.any(filteredImg[begin+length:end, col]):\n",
    "            verConnected = True\n",
    "            \n",
    "        if verConnected and horConnected:\n",
    "            img[i[1]:i[1]+i[2], i[0]] = 0\n",
    "            v.append(i)\n",
    "            \n",
    "    return img, v"
   ]
  },
  {
   "cell_type": "code",
   "execution_count": 8,
   "metadata": {},
   "outputs": [],
   "source": [
    "def binraization(img,n=8,t=15):\n",
    "\n",
    "    outputimg = np.zeros(img.shape)\n",
    "    intimg = np.zeros(img.shape)\n",
    "    h = img.shape[1]\n",
    "    w = img.shape[0]\n",
    "    s= min(w,h)//n\n",
    "    count = s**2\n",
    "    img = np.pad(img,s,\"constant\")\n",
    "    intimg = np.cumsum(img ,axis =1)\n",
    "    intimg = np.cumsum(intimg ,axis =0)\n",
    "    a = np.roll(intimg,-s//2,axis =0)\n",
    "    a = np.roll(a,-s//2,axis =1)\n",
    "    a[:,-s//2:]=a[-s//2-1,-s//2-1]\n",
    "    a[-s//2:,:]=a[-s//2-1,-s//2-1]\n",
    "    b = np.roll(intimg,s//2+1,axis =0)\n",
    "    b = np.roll(b,-s//2,axis =1)\n",
    "    b[0:s//2+1,:]=0\n",
    "    b[:,-s//2:]=0\n",
    "    \n",
    "    c = np.roll(intimg,s//2+1,axis =1)\n",
    "    c = np.roll(c,-s//2,axis =0)\n",
    "    c[:,0:s//2+1]=0\n",
    "    c[-s//2:,:]=0\n",
    "    \n",
    "    d = np.roll(intimg,s//2+1,axis =0)\n",
    "    d = np.roll(d,s//2+1,axis =1)\n",
    "    d[0:s//2+1,:]=0\n",
    "    d[:,0:s//2+1]=0\n",
    "\n",
    "    sum = (a-b-c+d)*(100-t)/100\n",
    "    outputimg = np.where(img>sum/count, 1, 0)\n",
    "    return outputimg[s:-s,s:-s]"
   ]
  },
  {
   "cell_type": "code",
   "execution_count": 9,
   "metadata": {},
   "outputs": [],
   "source": [
    "def segement_hand_written(img):\n",
    "    h , w = img.shape \n",
    "    window , width = get_dimensions(w,h)\n",
    "    fimg = median(img)\n",
    "    glares = (fimg > 195)\n",
    "    bimg = binraization(fimg,window,7)\n",
    "    output = (bimg ) - (glares)\n",
    "    output = median(output)\n",
    "    output = binary_dilation(1-output)\n",
    "    vse = np.array([[0,1,0],\n",
    "                    [0,1,0],\n",
    "                    [0,1,0]      ])\n",
    "\n",
    "    hse = np.array([[0,0,0],\n",
    "                    [1,1,1],\n",
    "                    [0,0,0]\n",
    "    ])\n",
    "    output = binary_dilation(output , vse)\n",
    "    output = binary_dilation(output , hse)\n",
    "    output = 1 - output\n",
    "    return output #the reuslt is binary image"
   ]
  },
  {
   "cell_type": "code",
   "execution_count": 10,
   "metadata": {},
   "outputs": [],
   "source": [
    "def remove_staff_lines(bimg , t , d,hw):\n",
    "    csl , c = get_candidates_lines(bimg,t) \n",
    "    fcsl ,c = filter_candidates_lines(csl,c,t,d)\n",
    "    #fcsl , c , e = remove_thin_lines(c,csl,t)\n",
    "    #fcsl , c , e = remove_lonely_lines(c,fcsl,t,d,e)\n",
    "    #fcsl , c  = add_false_negative_lines(c,fcsl,t,d,e) \n",
    "    staffless = (bimg-fcsl)\n",
    "    if(hw):\n",
    "        staffless = median(staffless)\n",
    "        staffless = binary_closing(staffless,np.ones((d//2,d//2)))\n",
    "        staffless = median(staffless)\n",
    "    result = ((staffless)).astype(\"uint8\")\n",
    "    return result #the result is a uint8 bw image"
   ]
  },
  {
   "cell_type": "code",
   "execution_count": 11,
   "metadata": {},
   "outputs": [
    {
     "name": "stdout",
     "output_type": "stream",
     "text": [
      "../inputs/test\n",
      "../inputs/testcases/handwritten\n",
      "../inputs/testcases/camera\n",
      "../inputs/testcases/scanned\n"
     ]
    }
   ],
   "source": [
    "tcimgs , tcfiles = load_images_from_folder(inpath + \"test\")\n",
    "hwimgs , hwfiles = load_images_from_folder(inpath+\"testcases/handwritten\")\n",
    "cimgs , cfiles = load_images_from_folder(inpath+\"testcases/camera\")\n",
    "simgs , sfiles = load_images_from_folder(inpath+\"testcases/scanned\")"
   ]
  },
  {
   "cell_type": "code",
   "execution_count": 21,
   "metadata": {},
   "outputs": [
    {
     "data": {
      "image/png": "[encoded data removed]",
      "text/plain": [
       "<Figure size 432x288 with 1 Axes>"
      ]
     },
     "metadata": {
      "needs_background": "light"
     },
     "output_type": "display_data"
    },
    {
     "data": {
      "image/png": "[encoded data removed]",
      "text/plain": [
       "<Figure size 432x288 with 1 Axes>"
      ]
     },
     "metadata": {
      "needs_background": "light"
     },
     "output_type": "display_data"
    },
    {
     "data": {
      "image/png": "[encoded data removed]",
      "text/plain": [
       "<Figure size 432x288 with 1 Axes>"
      ]
     },
     "metadata": {
      "needs_background": "light"
     },
     "output_type": "display_data"
    },
    {
     "data": {
      "image/png": "[encoded data removed]",
      "text/plain": [
       "<Figure size 432x288 with 1 Axes>"
      ]
     },
     "metadata": {
      "needs_background": "light"
     },
     "output_type": "display_data"
    },
    {
     "data": {
      "image/png": "[encoded data removed]",
      "text/plain": [
       "<Figure size 432x288 with 1 Axes>"
      ]
     },
     "metadata": {
      "needs_background": "light"
     },
     "output_type": "display_data"
    },
    {
     "data": {
      "image/png": "[encoded data removed]",
      "text/plain": [
       "<Figure size 432x288 with 1 Axes>"
      ]
     },
     "metadata": {
      "needs_background": "light"
     },
     "output_type": "display_data"
    },
    {
     "data": {
      "image/png": "[encoded data removed]",
      "text/plain": [
       "<Figure size 432x288 with 1 Axes>"
      ]
     },
     "metadata": {
      "needs_background": "light"
     },
     "output_type": "display_data"
    },
    {
     "data": {
      "image/png": "[encoded data removed]",
      "text/plain": [
       "<Figure size 432x288 with 1 Axes>"
      ]
     },
     "metadata": {
      "needs_background": "light"
     },
     "output_type": "display_data"
    },
    {
     "data": {
      "image/png": "[encoded data removed]",
      "text/plain": [
       "<Figure size 432x288 with 1 Axes>"
      ]
     },
     "metadata": {
      "needs_background": "light"
     },
     "output_type": "display_data"
    },
    {
     "data": {
      "image/png": "[encoded data removed]",
      "text/plain": [
       "<Figure size 432x288 with 1 Axes>"
      ]
     },
     "metadata": {
      "needs_background": "light"
     },
     "output_type": "display_data"
    },
    {
     "data": {
      "image/png": "[encoded data removed]",
      "text/plain": [
       "<Figure size 432x288 with 1 Axes>"
      ]
     },
     "metadata": {
      "needs_background": "light"
     },
     "output_type": "display_data"
    },
    {
     "data": {
      "image/png": "[encoded data removed]",
      "text/plain": [
       "<Figure size 432x288 with 1 Axes>"
      ]
     },
     "metadata": {
      "needs_background": "light"
     },
     "output_type": "display_data"
    },
    {
     "data": {
      "image/png": "[encoded data removed]",
      "text/plain": [
       "<Figure size 432x288 with 1 Axes>"
      ]
     },
     "metadata": {
      "needs_background": "light"
     },
     "output_type": "display_data"
    },
    {
     "data": {
      "image/png": "[encoded data removed]",
      "text/plain": [
       "<Figure size 432x288 with 1 Axes>"
      ]
     },
     "metadata": {
      "needs_background": "light"
     },
     "output_type": "display_data"
    },
    {
     "name": "stdout",
     "output_type": "stream",
     "text": [
      "['b1/4', 'c1/4', 'c2/4', 'd1/4', 'd2/4', 'e1/4', 'e2/4', 'f1/4', 'f2/4', 'g1/4', 'g2/4', 'a1/4', 'a2/4', 'b2/4']\n",
      "--- 4.38605809211731 seconds ---\n"
     ]
    }
   ],
   "source": [
    "\n",
    "#the working cell to get contours\n",
    "path = outpath\n",
    "files = tcfiles\n",
    "images = tcimgs\n",
    "start_time = time.time()\n",
    "for i , img in enumerate(images) :\n",
    "    h , w = img.shape \n",
    "    window , width = get_dimensions(w,h)\n",
    "    hist = histogram(img,nbins=256,source_range='dtype')\n",
    "    hist_acc =np.cumsum(hist[0])\n",
    "    tratio = ((hist_acc[255]-hist_acc[206] + hist_acc[49]-hist_acc[0]) / hist_acc[-1])*100\n",
    "  \n",
    "    if ( tratio < 4):\n",
    "        bimg = segement_hand_written(img)\n",
    "    elif ( 75 > tratio > 4):\n",
    "        bimg = binraization(img,window,35)\n",
    "    else: \n",
    "        bimg = (img > 150).astype(\"uint8\")\n",
    "    # io.imsave(path+\"/binary\"+files[i],(bimg*255).astype(\"uint8\"))\n",
    "    \"\"\" if(width): \n",
    "        img = resize(img,width=w//2)\n",
    "        bimg = resize(bimg,width=w//2) \"\"\"\n",
    "    t,d = get_lengthes(bimg)\n",
    "    csl , c = get_candidates_lines(bimg,t)\n",
    "    lines, d = getLines(csl)\n",
    "    img_isolated = remove_staff_lines(bimg,t,d , tratio < 4 )\n",
    "    # io.imsave(path+\"/isolated\"+files[i],img_isolated.astype(\"uint8\"))\n",
    "    img_isolated = img_isolated.astype(\"uint8\")\n",
    "    \n",
    "    boxes = getContours(img_isolated) # now we have contours after fixing\n",
    "    notes = []\n",
    "    for box in boxes:\n",
    "        x,y,w,h = box\n",
    "        croped = img_isolated[y:y+h, x:x+w]\n",
    "        features = extract_hog_features(croped)\n",
    "        note_type = classes[np.argmax( nn.predict_proba([features]))]\n",
    "        if note_type[0] == 'b' or note_type[0] == 'a':\n",
    "            f = note_type.split('_')[1]\n",
    "            heads = getNoteHeads(croped, d) # heads boxes\n",
    "            for head in heads:\n",
    "                xh,yh,wh,hh = head\n",
    "                yh = yh + (hh // 2) + y\n",
    "                idx = np.abs(lines - yh).argmin()\n",
    "                char = line_to_char[idx]\n",
    "                notes.append(char + '/' + f)\n",
    "     \n",
    "    print(notes)\n",
    "print(\"--- %s seconds ---\" % (time.time() - start_time))\n",
    "    "
   ]
  },
  {
   "cell_type": "code",
   "execution_count": null,
   "metadata": {},
   "outputs": [],
   "source": []
  },
  {
   "cell_type": "code",
   "execution_count": null,
   "metadata": {},
   "outputs": [],
   "source": [
    "img = cv2.imread(os.path.join(outpath,\"isolated08.PNG\"))\n",
    "img = cv2.cvtColor(img, cv2.COLOR_BGR2GRAY)\n",
    "\n",
    "boxes = getContours(img) # now we have contours after fixing\n",
    "for box in boxes:\n",
    "    x,y,w,h = box\n",
    "    croped = img[y:y+h, x:x+w]\n",
    "    features = extract_hog_features(croped)\n",
    "    note_type = classes[np.argmax( nn.predict_proba([features]))]\n",
    "    if note_type[0] == 'b' or note_type[0] == 'a':\n",
    "        print(note_type)\n",
    "        heads = getNoteHeads(croped) # heads boxes"
   ]
  },
  {
   "cell_type": "code",
   "execution_count": null,
   "metadata": {},
   "outputs": [],
   "source": [
    "\n",
    "    img = cv2.imread(os.path.join(inpath,\"07.png\"))\n",
    "    img = cv2.cvtColor(img, cv2.COLOR_BGR2GRAY)\n",
    "    h , w = img.shape \n",
    "    window , width = get_dimensions(w,h)\n",
    "    hist = histogram(img,nbins=256,source_range='dtype')\n",
    "    hist_acc =np.cumsum(hist[0])\n",
    "    tratio = ((hist_acc[255]-hist_acc[206] + hist_acc[49]-hist_acc[0]) / hist_acc[-1])*100\n",
    "    if ( tratio < 4):\n",
    "        bimg = segement_hand_written(img)\n",
    "    elif ( 75 > tratio > 4):\n",
    "        bimg = binraization(img,window,35)\n",
    "    else: \n",
    "        bimg = (img > 150).astype(\"uint8\")\n",
    "    io.imsave(\"0-binary.jpg\",(bimg*255).astype(\"uint8\"))\n",
    "    t,d = get_lengthes(bimg)\n",
    "    print(t)\n",
    "    csl , c = get_candidates_lines(bimg,t) \n",
    "    io.imsave(\"1-candidates.jpg\",(csl*255).astype(\"uint8\"))\n",
    "    csl , c = filter_candidates_lines(csl ,c,t,d) \n",
    "    io.imsave(\"2-filtered-candidates.jpg\",(csl*255).astype(\"uint8\"))\n",
    "    \"\"\" fcsl , c , e = remove_thin_lines(c,csl,t)\n",
    "    io.imsave(\"2-removed-thin.jpg\",(fcsl*255).astype(\"uint8\"))\n",
    "    fcsl , c , e = remove_lonely_lines(c,fcsl,t,d,e)\n",
    "    io.imsave(\"3-removed-lonely.jpg\",(fcsl*255).astype(\"uint8\"))\n",
    "    fcsl , c  = add_false_negative_lines(c,fcsl,t,d,e)\n",
    "    io.imsave(\"4-staff-lines.jpg\",(fcsl*255).astype(\"uint8\"))\n",
    "    staffless = (bimg-fcsl)\n",
    "    if(tratio < 4):\n",
    "        staffless = median(staffless)\n",
    "        staffless = binary_closing(staffless,np.ones((d//2,d//2)))\n",
    "        staffless = median(staffless)\n",
    "    result = ((staffless)).astype(\"uint8\")\n",
    "    io.imsave(\"5-removed-staff-lines.jpg\",result) \n",
    "    io.imsave(\"6-isolated.jpg\",((bimg-result)*255).astype(\"uint8\"))  \"\"\""
   ]
  },
  {
   "cell_type": "code",
   "execution_count": null,
   "metadata": {},
   "outputs": [],
   "source": [
    "    img = cv2.imread(os.path.join(inpath,\"4.jpg\"))\n",
    "    img = cv2.cvtColor(img, cv2.COLOR_BGR2GRAY)\n",
    "    h , w = img.shape \n",
    "    window , width = get_dimensions(w,h)\n",
    "    fimg = median(img)\n",
    "    glares = (fimg > 195)\n",
    "    io.imsave(\"1-glares.jpg\",(glares*255).astype(\"uint8\"))\n",
    "    bimg = binraization(fimg,window,7)\n",
    "    io.imsave(\"2-binary.jpg\",(bimg*255).astype(\"uint8\"))\n",
    "    output = (bimg ) - (glares)\n",
    "    io.imsave(\"3-binary.jpg\",(output*255).astype(\"uint8\"))\n",
    "    output = median(output)\n",
    "    output = binary_dilation(1-output)\n",
    "    vse = np.array([[0,1,0],\n",
    "                    [0,1,0],\n",
    "                    [0,1,0]      ])\n",
    "\n",
    "    hse = np.array([[0,0,0],\n",
    "                    [1,1,1],\n",
    "                    [0,0,0]\n",
    "    ])\n",
    "    output = binary_dilation(output , vse)\n",
    "    output = binary_dilation(output , hse)\n",
    "    output = 1 - output\n",
    "    io.imsave(\"4-binary.jpg\",(output*255).astype(\"uint8\"))\n",
    "    t,d = get_lengthes(output)\n",
    "    print(t , d)\n",
    "    csl , c = get_candidates_lines(output,t) \n",
    "    io.imsave(\"5-candidates.jpg\",(csl*255).astype(\"uint8\"))\n",
    "    csl , c = filter_candidates_lines(csl ,c,t,d) \n",
    "    io.imsave(\"6-filtered-candidates.jpg\",(csl*255).astype(\"uint8\"))"
   ]
  },
  {
   "cell_type": "code",
   "execution_count": null,
   "metadata": {},
   "outputs": [],
   "source": []
  },
  {
   "cell_type": "code",
   "execution_count": null,
   "metadata": {},
   "outputs": [],
   "source": [
    "    hist = histogram(img,nbins=256,source_range='dtype')\n",
    "    hist_acc =np.cumsum(hist[0])\n",
    "    tratio = ((hist_acc[255]-hist_acc[206] + hist_acc[49]-hist_acc[0]) / hist_acc[-1])*100\n",
    "  \n",
    "    if ( tratio < 4):\n",
    "        #the photo is hand written\n",
    "    elif ( 75 > tratio > 4):\n",
    "        #the photo is camera captured\n",
    "    else: \n",
    "        #the photo is scanned"
   ]
  }
 ],
 "metadata": {
  "kernelspec": {
   "display_name": "Python 3",
   "language": "python",
   "name": "python3"
  },
  "language_info": {
   "codemirror_mode": {
    "name": "ipython",
    "version": 3
   },
   "file_extension": ".py",
   "mimetype": "text/x-python",
   "name": "python",
   "nbconvert_exporter": "python",
   "pygments_lexer": "ipython3",
   "version": "3.8.5"
  }
 },
 "nbformat": 4,
 "nbformat_minor": 2
}
