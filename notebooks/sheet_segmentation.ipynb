{
 "cells": [
  {
   "cell_type": "code",
   "execution_count": 1,
   "metadata": {},
   "outputs": [],
   "source": [
    "from commonfunctions import *\n",
    "inpath = '../inputs/'\n",
    "outpath = '../outputs/segmentation/'"
   ]
  },
  {
   "cell_type": "code",
   "execution_count": null,
   "metadata": {},
   "outputs": [],
   "source": [
    "def integral_image(img):\n",
    "    rows,cols = img.shape\n",
    "    int_img = np.zeros(img.shape)\n",
    "    int_img[0][0] = img[0][0]\n",
    "    for r in range(1,rows):\n",
    "        int_img[r][0] = int_img[r-1][0] + img[r][0]    \n",
    "    for c in range(1,cols):\n",
    "        int_img[0][c] = int_img[0][c-1] + img[0][c]  \n",
    "    for r in range(1,rows):\n",
    "        for c in range(1,cols):\n",
    "            int_img[r][c] = img[r][c]+int_img[r][c-1] +int_img[r-1][c] - int_img[r-1][c-1] \n",
    "    return int_img"
   ]
  },
  {
   "cell_type": "code",
   "execution_count": null,
   "metadata": {},
   "outputs": [],
   "source": [
    "    "
   ]
  },
  {
   "cell_type": "code",
   "execution_count": 2,
   "metadata": {},
   "outputs": [],
   "source": [
    "def segment(img,window,t =10):\n",
    "    rows,cols = img.shape\n",
    "    output = np.zeros(img.shape, dtype=\"uint8\")\n",
    "    int_img = integral_image(img)\n",
    "    s = int(window/2)\n",
    "    p_img = np.pad(img,s,\"constant\")\n",
    "    p_int = np.pad(int_img,s,'edge')\n",
    "    for r in range(s+1,rows+s):\n",
    "        for c in range(s+1,cols+s):\n",
    "            x1 = c-s\n",
    "            x2 = c+s\n",
    "            y1 = r-s\n",
    "            y2 = r+s\n",
    "            count = (x2-x1)*(y2-y1)\n",
    "            sum = p_int[y2,x2] - p_int[y2,x1-1] - p_int[y1-1,x2] + p_int[y1-1,x1-1]\n",
    "            if(img[r-s][c-s]*count)<=(sum*(100-t)/100):\n",
    "                output[r-s][c-s]=0\n",
    "            else:\n",
    "                output[r-s][c-s]=255\n",
    "    return output        \n",
    "                "
   ]
  },
  {
   "cell_type": "code",
   "execution_count": null,
   "metadata": {},
   "outputs": [],
   "source": [
    "imgs , files = load_images_from_folder(inpath)\n",
    "for i , img in enumerate(imgs):\n",
    "    window , width = get_dimensions(img.shape[1],img.shape[0])\n",
    "    if width != 0:\n",
    "        img = resize(img,width= width)\n",
    "    output = segment(img,window,window)\n",
    "    print(files[i], window)\n",
    "    io.imsave(outpath+files[i],output)"
   ]
  },
  {
   "cell_type": "code",
   "execution_count": null,
   "metadata": {},
   "outputs": [],
   "source": [
    "sheet1 = io.imread(inpath+\"11.jpg\")\n",
    "sheet2 = io.imread(inpath+\"24.jpg\")\n",
    "h , w , c  = sheet1.shape \n",
    "window , nw = get_dimensions(w,h)\n",
    "print(window,nw, w*h)\n",
    "sheet1 = resize(sheet1 , width = nw)\n",
    "h , w , c  = sheet1.shape \n",
    "print(w,h, w*h)\n",
    "sheet_t1 = segment(rgb2gray(sheet1),window,15)\n",
    "io.imsave(outpath+'testo.jpg',sheet_t1)"
   ]
  },
  {
   "cell_type": "code",
   "execution_count": null,
   "metadata": {},
   "outputs": [],
   "source": [
    "showHist(sheet1)\n",
    "showHist(sheet2)"
   ]
  },
  {
   "cell_type": "code",
   "execution_count": null,
   "metadata": {},
   "outputs": [],
   "source": [
    "sheet2 = io.imread(inpath+\"music2.jpg\")\n",
    "sheet_t2 = Segment(rgb2gray(sheet2),31,25)\n",
    "w , h , c  = sheet2.shape \n",
    "print( w*h)\n",
    "io.imsave(outpath+'2.jpg',sheet_t2)"
   ]
  },
  {
   "cell_type": "code",
   "execution_count": null,
   "metadata": {},
   "outputs": [],
   "source": [
    "print(sheet2.shape)"
   ]
  },
  {
   "cell_type": "code",
   "execution_count": null,
   "metadata": {},
   "outputs": [],
   "source": [
    "sheet1 = io.imread(inpath+\"11.jpg\")\n",
    "h , w , c  = sheet1.shape \n",
    "print( w,h)"
   ]
  },
  {
   "cell_type": "code",
   "execution_count": null,
   "metadata": {},
   "outputs": [],
   "source": []
  }
 ],
 "metadata": {
  "kernelspec": {
   "display_name": "Python 3",
   "language": "python",
   "name": "python3"
  },
  "language_info": {
   "codemirror_mode": {
    "name": "ipython",
    "version": 3
   },
   "file_extension": ".py",
   "mimetype": "text/x-python",
   "name": "python",
   "nbconvert_exporter": "python",
   "pygments_lexer": "ipython3",
   "version": "3.7.4"
  }
 },
 "nbformat": 4,
 "nbformat_minor": 2
}
